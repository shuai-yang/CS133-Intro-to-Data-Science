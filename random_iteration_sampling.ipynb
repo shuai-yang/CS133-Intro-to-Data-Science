{
 "cells": [
  {
   "cell_type": "code",
   "execution_count": 1,
   "metadata": {},
   "outputs": [],
   "source": [
    "# HIDDEN\n",
    "\n",
    "from datascience import *\n",
    "import numpy as np\n",
    "# import random\n",
    "\n",
    "import matplotlib\n",
    "matplotlib.use('Agg', warn=False)\n",
    "%matplotlib inline\n",
    "import matplotlib.pyplot as plots\n",
    "plots.style.use('fivethirtyeight')"
   ]
  },
  {
   "cell_type": "code",
   "execution_count": null,
   "metadata": {},
   "outputs": [],
   "source": [
    "'''\n",
    "the random module provides many useful function including:\n",
    "randint(a,b) - Return a random integer N such that a <= N < b.  \n",
    "shuffle(list) - Shuffle the items in a list in-place\n",
    "choice(list) - Return a randomly selected item from a list\n",
    "seed(a) - Initialize the random module with a specific seed value so it always generates the same sequence of “random” selections.\n",
    "'''"
   ]
  },
  {
   "cell_type": "code",
   "execution_count": 2,
   "metadata": {},
   "outputs": [
    {
     "data": {
      "text/plain": [
       "'control'"
      ]
     },
     "execution_count": 2,
     "metadata": {},
     "output_type": "execute_result"
    }
   ],
   "source": [
    "two_groups = make_array('treatment', 'control')\n",
    "np.random.choice(two_groups)"
   ]
  },
  {
   "cell_type": "code",
   "execution_count": 3,
   "metadata": {},
   "outputs": [
    {
     "data": {
      "text/plain": [
       "array(['control', 'control', 'treatment', 'treatment', 'control',\n",
       "       'control', 'control', 'treatment', 'treatment', 'control'],\n",
       "      dtype='<U9')"
      ]
     },
     "execution_count": 3,
     "metadata": {},
     "output_type": "execute_result"
    }
   ],
   "source": [
    "np.random.choice(two_groups, 10)"
   ]
  },
  {
   "cell_type": "code",
   "execution_count": 4,
   "metadata": {},
   "outputs": [
    {
     "data": {
      "text/plain": [
       "True"
      ]
     },
     "execution_count": 4,
     "metadata": {},
     "output_type": "execute_result"
    }
   ],
   "source": [
    "3 > 1 + 1"
   ]
  },
  {
   "cell_type": "code",
   "execution_count": 5,
   "metadata": {},
   "outputs": [
    {
     "ename": "SyntaxError",
     "evalue": "can't assign to literal (<ipython-input-5-e8c755f5e450>, line 1)",
     "output_type": "error",
     "traceback": [
      "\u001b[0;36m  File \u001b[0;32m\"<ipython-input-5-e8c755f5e450>\"\u001b[0;36m, line \u001b[0;32m1\u001b[0m\n\u001b[0;31m    5 = 10/2\u001b[0m\n\u001b[0m            ^\u001b[0m\n\u001b[0;31mSyntaxError\u001b[0m\u001b[0;31m:\u001b[0m can't assign to literal\n"
     ]
    }
   ],
   "source": [
    "5 = 10/2"
   ]
  },
  {
   "cell_type": "code",
   "execution_count": 6,
   "metadata": {},
   "outputs": [
    {
     "data": {
      "text/plain": [
       "True"
      ]
     },
     "execution_count": 6,
     "metadata": {},
     "output_type": "execute_result"
    }
   ],
   "source": [
    "5 == 10/2"
   ]
  },
  {
   "cell_type": "code",
   "execution_count": 7,
   "metadata": {},
   "outputs": [
    {
     "data": {
      "text/plain": [
       "True"
      ]
     },
     "execution_count": 7,
     "metadata": {},
     "output_type": "execute_result"
    }
   ],
   "source": [
    "1 < 1 + 1 < 3"
   ]
  },
  {
   "cell_type": "code",
   "execution_count": 8,
   "metadata": {},
   "outputs": [
    {
     "data": {
      "text/plain": [
       "True"
      ]
     },
     "execution_count": 8,
     "metadata": {},
     "output_type": "execute_result"
    }
   ],
   "source": [
    "x = 12\n",
    "y = 5\n",
    "min(x, y) <= (x+y)/2 <= max(x, y)"
   ]
  },
  {
   "cell_type": "code",
   "execution_count": 9,
   "metadata": {},
   "outputs": [
    {
     "data": {
      "text/plain": [
       "True"
      ]
     },
     "execution_count": 9,
     "metadata": {},
     "output_type": "execute_result"
    }
   ],
   "source": [
    "# Strings can also be compared, and their order is alphabetical. A shorter string is less than a longer string that begins with the shorter string.\n",
    "'Dog' > 'Catastrophe' > 'Cat'"
   ]
  },
  {
   "cell_type": "code",
   "execution_count": 10,
   "metadata": {},
   "outputs": [
    {
     "data": {
      "text/plain": [
       "False"
      ]
     },
     "execution_count": 10,
     "metadata": {},
     "output_type": "execute_result"
    }
   ],
   "source": [
    "np.random.choice(two_groups) == 'treatment'"
   ]
  },
  {
   "cell_type": "code",
   "execution_count": 11,
   "metadata": {},
   "outputs": [
    {
     "data": {
      "text/plain": [
       "array([False,  True, False,  True,  True])"
      ]
     },
     "execution_count": 11,
     "metadata": {},
     "output_type": "execute_result"
    }
   ],
   "source": [
    "# Comparing an Array and a Value\n",
    "tosses = make_array('Tails', 'Heads', 'Tails', 'Heads', 'Heads')\n",
    "tosses == 'Heads'"
   ]
  },
  {
   "cell_type": "code",
   "execution_count": 12,
   "metadata": {},
   "outputs": [
    {
     "data": {
      "text/plain": [
       "3"
      ]
     },
     "execution_count": 12,
     "metadata": {},
     "output_type": "execute_result"
    }
   ],
   "source": [
    "''' ************************ Comparing an Array ************************ '''\n",
    "\n",
    "# The numpy method count_nonzero evaluates to the number of non-zero (that is, True) elements of the array.\n",
    "np.count_nonzero(tosses == 'Heads')\n",
    "# 1 is true, 0 is false"
   ]
  },
  {
   "cell_type": "code",
   "execution_count": 13,
   "metadata": {},
   "outputs": [],
   "source": [
    "def sign(x):\n",
    "    if x > 0:\n",
    "        return 'Positive'"
   ]
  },
  {
   "cell_type": "code",
   "execution_count": 14,
   "metadata": {},
   "outputs": [
    {
     "data": {
      "text/plain": [
       "'Positive'"
      ]
     },
     "execution_count": 14,
     "metadata": {},
     "output_type": "execute_result"
    }
   ],
   "source": [
    "sign(3)"
   ]
  },
  {
   "cell_type": "code",
   "execution_count": 15,
   "metadata": {},
   "outputs": [],
   "source": [
    "sign(-3)\n",
    "#if expression evaluates to a false value, and so the return statement is skipped and the function call has no value."
   ]
  },
  {
   "cell_type": "code",
   "execution_count": 16,
   "metadata": {},
   "outputs": [],
   "source": [
    "def sign(x):\n",
    "    if x > 0:\n",
    "        return 'Positive'\n",
    "    elif x < 0:\n",
    "        return 'Negative'"
   ]
  },
  {
   "cell_type": "code",
   "execution_count": 17,
   "metadata": {},
   "outputs": [
    {
     "data": {
      "text/plain": [
       "'Negative'"
      ]
     },
     "execution_count": 17,
     "metadata": {},
     "output_type": "execute_result"
    }
   ],
   "source": [
    "sign(-3)"
   ]
  },
  {
   "cell_type": "code",
   "execution_count": 18,
   "metadata": {},
   "outputs": [],
   "source": [
    "def sign(x):\n",
    "    if x > 0:\n",
    "        return 'Positive'\n",
    "    elif x < 0:\n",
    "        return 'Negative'\n",
    "    elif x == 0:\n",
    "        return 'Neither positive nor negative'"
   ]
  },
  {
   "cell_type": "code",
   "execution_count": 19,
   "metadata": {},
   "outputs": [
    {
     "data": {
      "text/plain": [
       "'Neither positive nor negative'"
      ]
     },
     "execution_count": 19,
     "metadata": {},
     "output_type": "execute_result"
    }
   ],
   "source": [
    "sign(0)"
   ]
  },
  {
   "cell_type": "code",
   "execution_count": 20,
   "metadata": {},
   "outputs": [],
   "source": [
    "def sign(x):\n",
    "    if x > 0:\n",
    "        return 'Positive'\n",
    "    elif x < 0:\n",
    "        return 'Negative'\n",
    "    else:\n",
    "        return 'Neither positive nor negative'"
   ]
  },
  {
   "cell_type": "code",
   "execution_count": 21,
   "metadata": {},
   "outputs": [
    {
     "data": {
      "text/plain": [
       "'Neither positive nor negative'"
      ]
     },
     "execution_count": 21,
     "metadata": {},
     "output_type": "execute_result"
    }
   ],
   "source": [
    "sign(0)"
   ]
  },
  {
   "cell_type": "code",
   "execution_count": 22,
   "metadata": {},
   "outputs": [],
   "source": [
    "def other_one(x, a_b):    \n",
    "    \"\"\"Compare x with the two elements of a_b;\n",
    "    if it is equal to one of them, return the other one;\n",
    "    if it is not equal to either of them, return an error message.\n",
    "    \"\"\"\n",
    "    if x == a_b.item(0):\n",
    "        return a_b.item(1)\n",
    "    elif x == a_b.item(1):\n",
    "        return a_b.item(0)\n",
    "    else:\n",
    "        return 'The input is not valid.'"
   ]
  },
  {
   "cell_type": "code",
   "execution_count": 23,
   "metadata": {},
   "outputs": [
    {
     "data": {
      "text/plain": [
       "'blue'"
      ]
     },
     "execution_count": 23,
     "metadata": {},
     "output_type": "execute_result"
    }
   ],
   "source": [
    "colors = make_array('red', 'blue')\n",
    "other_one('red', colors)"
   ]
  },
  {
   "cell_type": "code",
   "execution_count": 24,
   "metadata": {},
   "outputs": [
    {
     "data": {
      "text/plain": [
       "'red'"
      ]
     },
     "execution_count": 24,
     "metadata": {},
     "output_type": "execute_result"
    }
   ],
   "source": [
    "other_one('blue', colors)"
   ]
  },
  {
   "cell_type": "code",
   "execution_count": 25,
   "metadata": {},
   "outputs": [
    {
     "data": {
      "text/plain": [
       "'The input is not valid.'"
      ]
     },
     "execution_count": 25,
     "metadata": {},
     "output_type": "execute_result"
    }
   ],
   "source": [
    "other_one('potato', colors)"
   ]
  },
  {
   "cell_type": "code",
   "execution_count": 40,
   "metadata": {},
   "outputs": [],
   "source": [
    "''' The Monty Hall Problem '''\n",
    "doors = make_array('Car', 'Goat 1', 'Goat 2')\n",
    "goats = make_array('Goat 1', 'Goat 2')"
   ]
  },
  {
   "cell_type": "code",
   "execution_count": 41,
   "metadata": {},
   "outputs": [
    {
     "data": {
      "text/plain": [
       "array(['Goat 1', 'Goat 2', 'Car'], dtype='<U6')"
      ]
     },
     "execution_count": 41,
     "metadata": {},
     "output_type": "execute_result"
    }
   ],
   "source": [
    "original = 'Goat 1'\n",
    "make_array(original, other_one(original, goats), 'Car')"
   ]
  },
  {
   "cell_type": "code",
   "execution_count": 42,
   "metadata": {},
   "outputs": [
    {
     "data": {
      "text/plain": [
       "array(['Car', 'Goat 2', 'Goat 1'], dtype='<U6')"
      ]
     },
     "execution_count": 42,
     "metadata": {},
     "output_type": "execute_result"
    }
   ],
   "source": [
    "original = 'Car'\n",
    "throw_out = np.random.choice(goats)\n",
    "make_array(original, throw_out, other_one(throw_out, goats))"
   ]
  },
  {
   "cell_type": "code",
   "execution_count": 43,
   "metadata": {},
   "outputs": [],
   "source": [
    "def is_goat(door_name):\n",
    "\n",
    "    \"\"\" Check whether the name of a door (a string) is a Goat.\n",
    "    \n",
    "    Examples:\n",
    "    =========\n",
    "    \n",
    "    >>> is_goat('Goat 1')\n",
    "    True\n",
    "    >>> is_goat('Goat 2')\n",
    "    True\n",
    "    >>> is_goat('Car')\n",
    "    False\n",
    "    \"\"\"\n",
    "    if door_name == \"Goat 1\":\n",
    "        return True\n",
    "    elif door_name == \"Goat 2\":\n",
    "        return True\n",
    "    else:\n",
    "        return False\n",
    "\n",
    "\n",
    "def monty_hall():\n",
    "\n",
    "    \"\"\" Play the Monty Hall game once\n",
    "    and return an array of three strings:\n",
    "    \n",
    "    original choice, what Monty throws out, what remains\n",
    "    \"\"\"\n",
    "\n",
    "    original = np.random.choice(doors)\n",
    "\n",
    "    if is_goat(original):\n",
    "        return make_array(original, other_one(original, goats), 'Car')\n",
    "\n",
    "    else:\n",
    "        throw_out = np.random.choice(goats)\n",
    "        return make_array(original, throw_out, other_one(throw_out, goats))"
   ]
  },
  {
   "cell_type": "code",
   "execution_count": 45,
   "metadata": {},
   "outputs": [
    {
     "data": {
      "text/html": [
       "<table border=\"1\" class=\"dataframe\">\n",
       "    <thead>\n",
       "        <tr>\n",
       "            <th>Original Door Choice</th> <th>Monty Throws Out</th> <th>Remaining Door</th>\n",
       "        </tr>\n",
       "    </thead>\n",
       "    <tbody>\n",
       "        <tr>\n",
       "            <td>Car                 </td> <td>Goat 2          </td> <td>Goat 1        </td>\n",
       "        </tr>\n",
       "        <tr>\n",
       "            <td>Goat 2              </td> <td>Goat 1          </td> <td>Car           </td>\n",
       "        </tr>\n",
       "        <tr>\n",
       "            <td>Car                 </td> <td>Goat 1          </td> <td>Goat 2        </td>\n",
       "        </tr>\n",
       "        <tr>\n",
       "            <td>Goat 1              </td> <td>Goat 2          </td> <td>Car           </td>\n",
       "        </tr>\n",
       "        <tr>\n",
       "            <td>Goat 2              </td> <td>Goat 1          </td> <td>Car           </td>\n",
       "        </tr>\n",
       "        <tr>\n",
       "            <td>Goat 2              </td> <td>Goat 1          </td> <td>Car           </td>\n",
       "        </tr>\n",
       "        <tr>\n",
       "            <td>Goat 2              </td> <td>Goat 1          </td> <td>Car           </td>\n",
       "        </tr>\n",
       "        <tr>\n",
       "            <td>Goat 1              </td> <td>Goat 2          </td> <td>Car           </td>\n",
       "        </tr>\n",
       "        <tr>\n",
       "            <td>Goat 2              </td> <td>Goat 1          </td> <td>Car           </td>\n",
       "        </tr>\n",
       "        <tr>\n",
       "            <td>Goat 2              </td> <td>Goat 1          </td> <td>Car           </td>\n",
       "        </tr>\n",
       "    </tbody>\n",
       "</table>\n",
       "<p>... (9990 rows omitted)</p>"
      ],
      "text/plain": [
       "Original Door Choice | Monty Throws Out | Remaining Door\n",
       "Car                  | Goat 2           | Goat 1\n",
       "Goat 2               | Goat 1           | Car\n",
       "Car                  | Goat 1           | Goat 2\n",
       "Goat 1               | Goat 2           | Car\n",
       "Goat 2               | Goat 1           | Car\n",
       "Goat 2               | Goat 1           | Car\n",
       "Goat 2               | Goat 1           | Car\n",
       "Goat 1               | Goat 2           | Car\n",
       "Goat 2               | Goat 1           | Car\n",
       "Goat 2               | Goat 1           | Car\n",
       "... (9990 rows omitted)"
      ]
     },
     "execution_count": 45,
     "metadata": {},
     "output_type": "execute_result"
    }
   ],
   "source": [
    "# Number of times we'll play the game\n",
    "N = 10000\n",
    "\n",
    "original = make_array()     # original choice\n",
    "throw_out = make_array()    # what Monty throws out\n",
    "remains = make_array()      # what remains\n",
    "\n",
    "for i in np.arange(N): \n",
    "    result = monty_hall()    # the result of one game\n",
    "\n",
    "    # Collect the results in the appropriate arrays\n",
    "    original = np.append(original, result.item(0))\n",
    "    throw_out = np.append(throw_out, result.item(1))\n",
    "    remains = np.append(remains, result.item(2))\n",
    "\n",
    "# The for-loop is done! Now put all the arrays together in a table.\n",
    "results = Table().with_columns(\n",
    "    'Original Door Choice', original,\n",
    "    'Monty Throws Out', throw_out,\n",
    "    'Remaining Door', remains\n",
    ")\n",
    "results"
   ]
  },
  {
   "cell_type": "code",
   "execution_count": 46,
   "metadata": {},
   "outputs": [
    {
     "data": {
      "text/html": [
       "<table border=\"1\" class=\"dataframe\">\n",
       "    <thead>\n",
       "        <tr>\n",
       "            <th>Original Door Choice</th> <th>count</th>\n",
       "        </tr>\n",
       "    </thead>\n",
       "    <tbody>\n",
       "        <tr>\n",
       "            <td>Car                 </td> <td>3262 </td>\n",
       "        </tr>\n",
       "        <tr>\n",
       "            <td>Goat 1              </td> <td>3348 </td>\n",
       "        </tr>\n",
       "        <tr>\n",
       "            <td>Goat 2              </td> <td>3390 </td>\n",
       "        </tr>\n",
       "    </tbody>\n",
       "</table>"
      ],
      "text/plain": [
       "Original Door Choice | count\n",
       "Car                  | 3262\n",
       "Goat 1               | 3348\n",
       "Goat 2               | 3390"
      ]
     },
     "execution_count": 46,
     "metadata": {},
     "output_type": "execute_result"
    }
   ],
   "source": [
    "results.group('Original Door Choice')"
   ]
  },
  {
   "cell_type": "code",
   "execution_count": 47,
   "metadata": {},
   "outputs": [
    {
     "data": {
      "text/html": [
       "<table border=\"1\" class=\"dataframe\">\n",
       "    <thead>\n",
       "        <tr>\n",
       "            <th>Remaining Door</th> <th>count</th>\n",
       "        </tr>\n",
       "    </thead>\n",
       "    <tbody>\n",
       "        <tr>\n",
       "            <td>Car           </td> <td>6738 </td>\n",
       "        </tr>\n",
       "        <tr>\n",
       "            <td>Goat 1        </td> <td>1665 </td>\n",
       "        </tr>\n",
       "        <tr>\n",
       "            <td>Goat 2        </td> <td>1597 </td>\n",
       "        </tr>\n",
       "    </tbody>\n",
       "</table>"
      ],
      "text/plain": [
       "Remaining Door | count\n",
       "Car            | 6738\n",
       "Goat 1         | 1665\n",
       "Goat 2         | 1597"
      ]
     },
     "execution_count": 47,
     "metadata": {},
     "output_type": "execute_result"
    }
   ],
   "source": [
    "results.group('Remaining Door')\n",
    "'''As our solution said, the car is behind the remaining door two-thirds of the time, to a pretty good approximation. \n",
    "The contestant is twice as likely to get the car if she switches than if she sticks with her original choice.'''"
   ]
  },
  {
   "cell_type": "code",
   "execution_count": 48,
   "metadata": {},
   "outputs": [
    {
     "data": {
      "text/html": [
       "<table border=\"1\" class=\"dataframe\">\n",
       "    <thead>\n",
       "        <tr>\n",
       "            <th>Item</th> <th>Original Door</th> <th>Remaining Door</th>\n",
       "        </tr>\n",
       "    </thead>\n",
       "    <tbody>\n",
       "        <tr>\n",
       "            <td>Car   </td> <td>3262         </td> <td>6738          </td>\n",
       "        </tr>\n",
       "        <tr>\n",
       "            <td>Goat 1</td> <td>3348         </td> <td>1665          </td>\n",
       "        </tr>\n",
       "        <tr>\n",
       "            <td>Goat 2</td> <td>3390         </td> <td>1597          </td>\n",
       "        </tr>\n",
       "    </tbody>\n",
       "</table>"
      ],
      "text/plain": [
       "Item   | Original Door | Remaining Door\n",
       "Car    | 3262          | 6738\n",
       "Goat 1 | 3348          | 1665\n",
       "Goat 2 | 3390          | 1597"
      ]
     },
     "execution_count": 48,
     "metadata": {},
     "output_type": "execute_result"
    }
   ],
   "source": [
    "#To visualize the results, we can join the two tables above and draw overlaid bar charts.\n",
    "results_o = results.group('Original Door Choice')\n",
    "results_r = results.group('Remaining Door')\n",
    "joined = results_o.join('Original Door Choice', results_r, 'Remaining Door')\n",
    "combined = joined.relabeled(0, 'Item').relabeled(1, 'Original Door').relabeled(2, 'Remaining Door')\n",
    "combined\n"
   ]
  },
  {
   "cell_type": "code",
   "execution_count": 49,
   "metadata": {},
   "outputs": [
    {
     "data": {
      "image/png": "[encoded data removed]",
      "text/plain": [
       "<Figure size 432x288 with 1 Axes>"
      ]
     },
     "metadata": {},
     "output_type": "display_data"
    }
   ],
   "source": [
    "combined.barh(0)\n",
    "'''\n",
    "Notice how the three blue bars are almost equal – the original choice is equally likely to be any of the three available items.\n",
    "But the gold bar corresponding to Car is twice as long as the blue.\n",
    "The simulation confirms that the contestant is twice as likely to win if she switches.\n",
    "'''"
   ]
  },
  {
   "cell_type": "code",
   "execution_count": null,
   "metadata": {},
   "outputs": [],
   "source": [
    "'''\n",
    "If you are rolling an ordinary die, a natural assumption is that all six faces are equally likely. \n",
    "Then probabilities of how one roll comes out can be easily calculated as a ratio.\n",
    "When All Outcomes are Equally Likely\n",
    "'''\n",
    "\n",
    "'''\n",
    "When Two Events Must Both Happen. In general, we have the multiplication rule\n",
    "Thus, when there are two conditions – one event must happen, as well as another – the chance is a fraction of a fraction, \n",
    "When an Event Can Happen in Two Different Ways. In general, we have the addition rule\n",
    "Each of GR and RG has chance  1/6  by the calculation above. (１／３＊　　１／２)\n",
    "So you can calculate the chance of \"one green and one red\" by adding them up.　（１／６　＋　１／６）\n",
    "'''\n",
    "\n",
    "'''\n",
    "At Least One Success：　the problem is to find the chance that the sample contains a success.\n",
    "If you toss a coin twice, there are four equally likely outcomes: HH, HT, TH, and TT.\n",
    "The chance of getting at least one head in two tosses is therefore 3/4.\n",
    "Another way of coming up with this answer is to work out what happens if you don't get at least one head: both the tosses have to land tails. \n",
    "'''\n",
    "𝑃(at least one head in 17 tosses) = 1−𝑃(all 17 are tails) = 1−(1/2)^17\n",
    "𝑃(a single roll is not 6) = 𝑃(1)+𝑃(2)+𝑃(3)+𝑃(4)+𝑃(5) = 5/6\n",
    "𝑃(at least one 6 in two rolls) = 1−𝑃(both rolls are not 6) = 1−(5/6)^2\n",
    "𝑃(at least one 6 in 17 rolls) = 1−(5/6)^17"
   ]
  },
  {
   "cell_type": "code",
   "execution_count": 50,
   "metadata": {},
   "outputs": [
    {
     "data": {
      "text/html": [
       "<table border=\"1\" class=\"dataframe\">\n",
       "    <thead>\n",
       "        <tr>\n",
       "            <th>Rolls</th> <th>Chance of at least one 6</th>\n",
       "        </tr>\n",
       "    </thead>\n",
       "    <tbody>\n",
       "        <tr>\n",
       "            <td>1    </td> <td>0.166667                </td>\n",
       "        </tr>\n",
       "        <tr>\n",
       "            <td>2    </td> <td>0.305556                </td>\n",
       "        </tr>\n",
       "        <tr>\n",
       "            <td>3    </td> <td>0.421296                </td>\n",
       "        </tr>\n",
       "        <tr>\n",
       "            <td>4    </td> <td>0.517747                </td>\n",
       "        </tr>\n",
       "        <tr>\n",
       "            <td>5    </td> <td>0.598122                </td>\n",
       "        </tr>\n",
       "        <tr>\n",
       "            <td>6    </td> <td>0.665102                </td>\n",
       "        </tr>\n",
       "        <tr>\n",
       "            <td>7    </td> <td>0.720918                </td>\n",
       "        </tr>\n",
       "        <tr>\n",
       "            <td>8    </td> <td>0.767432                </td>\n",
       "        </tr>\n",
       "        <tr>\n",
       "            <td>9    </td> <td>0.806193                </td>\n",
       "        </tr>\n",
       "        <tr>\n",
       "            <td>10   </td> <td>0.838494                </td>\n",
       "        </tr>\n",
       "    </tbody>\n",
       "</table>\n",
       "<p>... (40 rows omitted)</p>"
      ],
      "text/plain": [
       "Rolls | Chance of at least one 6\n",
       "1     | 0.166667\n",
       "2     | 0.305556\n",
       "3     | 0.421296\n",
       "4     | 0.517747\n",
       "5     | 0.598122\n",
       "6     | 0.665102\n",
       "7     | 0.720918\n",
       "8     | 0.767432\n",
       "9     | 0.806193\n",
       "10    | 0.838494\n",
       "... (40 rows omitted)"
      ]
     },
     "execution_count": 50,
     "metadata": {},
     "output_type": "execute_result"
    }
   ],
   "source": [
    "# The table below shows these probabilities as the number of rolls increases from 1 to 50.\n",
    "rolls = np.arange(1, 51, 1)\n",
    "results = Table().with_columns(\n",
    "    'Rolls', rolls,\n",
    "    'Chance of at least one 6', 1 - (5/6)**rolls\n",
    ")\n",
    "results"
   ]
  },
  {
   "cell_type": "code",
   "execution_count": 51,
   "metadata": {},
   "outputs": [
    {
     "data": {
      "image/png": "[encoded data removed]",
      "text/plain": [
       "<Figure size 360x360 with 1 Axes>"
      ]
     },
     "metadata": {},
     "output_type": "display_data"
    }
   ],
   "source": [
    "# The chance that a 6 appears at least once rises rapidly as the number of rolls increases.\n",
    "results.scatter('Rolls')"
   ]
  },
  {
   "cell_type": "code",
   "execution_count": 52,
   "metadata": {},
   "outputs": [
    {
     "data": {
      "text/html": [
       "<table border=\"1\" class=\"dataframe\">\n",
       "    <thead>\n",
       "        <tr>\n",
       "            <th>Rolls</th> <th>Chance of at least one 6</th>\n",
       "        </tr>\n",
       "    </thead>\n",
       "    <tbody>\n",
       "        <tr>\n",
       "            <td>50   </td> <td>0.99989                 </td>\n",
       "        </tr>\n",
       "    </tbody>\n",
       "</table>"
      ],
      "text/plain": [
       "Rolls | Chance of at least one 6\n",
       "50    | 0.99989"
      ]
     },
     "execution_count": 52,
     "metadata": {},
     "output_type": "execute_result"
    }
   ],
   "source": [
    "# In 50 rolls, you are almost certain to get at least one 6.\n",
    "results.where('Rolls', are.equal_to(50))\n",
    "'''\n",
    "But what we have observed above can usually be generalized: \n",
    "increasing the size of the random sample increases the chance that an individual is selected.\n",
    "'''"
   ]
  },
  {
   "cell_type": "code",
   "execution_count": null,
   "metadata": {},
   "outputs": [],
   "source": [
    "'''******************* Probability with Replacement ********************\n",
    "If we want to know the probability of two events in a row with replacement we use the addition rule.\n",
    "Example\n",
    "What is the probability of drawing a 2 and a 7 from a deck of cards?  The order doesn’t matter\n",
    "4/52 + 4/52 = 8/52\n",
    "'''\n",
    "\n",
    "'''*******************  Probability without Replacement ********************\n",
    "Example\n",
    "You have a bag with 30 m&m’s, 9 are brown, 3 are orange, 3 are green, 3 are blue, 6 are yellow, and 6 are red.\n",
    "What is the probability of eating a orange m&m then a yellow m&m?\n",
    "3/30 * 6/29\n",
    "'''"
   ]
  },
  {
   "cell_type": "code",
   "execution_count": 53,
   "metadata": {},
   "outputs": [
    {
     "data": {
      "text/html": [
       "<table border=\"1\" class=\"dataframe\">\n",
       "    <thead>\n",
       "        <tr>\n",
       "            <th>Row Index</th> <th>Title</th> <th>Studio</th> <th>Gross</th> <th>Gross (Adjusted)</th> <th>Year</th>\n",
       "        </tr>\n",
       "    </thead>\n",
       "    <tbody>\n",
       "        <tr>\n",
       "            <td>0        </td> <td>Star Wars: The Force Awakens             </td> <td>Buena Vista (Disney)</td> <td>906,723,418</td> <td>906,723,400     </td> <td>2015</td>\n",
       "        </tr>\n",
       "        <tr>\n",
       "            <td>1        </td> <td>Avatar                                   </td> <td>Fox                 </td> <td>760,507,625</td> <td>846,120,800     </td> <td>2009</td>\n",
       "        </tr>\n",
       "        <tr>\n",
       "            <td>2        </td> <td>Titanic                                  </td> <td>Paramount           </td> <td>658,672,302</td> <td>1,178,627,900   </td> <td>1997</td>\n",
       "        </tr>\n",
       "        <tr>\n",
       "            <td>3        </td> <td>Jurassic World                           </td> <td>Universal           </td> <td>652,270,625</td> <td>687,728,000     </td> <td>2015</td>\n",
       "        </tr>\n",
       "        <tr>\n",
       "            <td>4        </td> <td>Marvel's The Avengers                    </td> <td>Buena Vista (Disney)</td> <td>623,357,910</td> <td>668,866,600     </td> <td>2012</td>\n",
       "        </tr>\n",
       "        <tr>\n",
       "            <td>5        </td> <td>The Dark Knight                          </td> <td>Warner Bros.        </td> <td>534,858,444</td> <td>647,761,600     </td> <td>2008</td>\n",
       "        </tr>\n",
       "        <tr>\n",
       "            <td>6        </td> <td>Star Wars: Episode I - The Phantom Menace</td> <td>Fox                 </td> <td>474,544,677</td> <td>785,715,000     </td> <td>1999</td>\n",
       "        </tr>\n",
       "        <tr>\n",
       "            <td>7        </td> <td>Star Wars                                </td> <td>Fox                 </td> <td>460,998,007</td> <td>1,549,640,500   </td> <td>1977</td>\n",
       "        </tr>\n",
       "        <tr>\n",
       "            <td>8        </td> <td>Avengers: Age of Ultron                  </td> <td>Buena Vista (Disney)</td> <td>459,005,868</td> <td>465,684,200     </td> <td>2015</td>\n",
       "        </tr>\n",
       "        <tr>\n",
       "            <td>9        </td> <td>The Dark Knight Rises                    </td> <td>Warner Bros.        </td> <td>448,139,099</td> <td>500,961,700     </td> <td>2012</td>\n",
       "        </tr>\n",
       "    </tbody>\n",
       "</table>\n",
       "<p>... (190 rows omitted)</p>"
      ],
      "text/plain": [
       "Row Index | Title                                     | Studio               | Gross       | Gross (Adjusted) | Year\n",
       "0         | Star Wars: The Force Awakens              | Buena Vista (Disney) | 906,723,418 | 906,723,400      | 2015\n",
       "1         | Avatar                                    | Fox                  | 760,507,625 | 846,120,800      | 2009\n",
       "2         | Titanic                                   | Paramount            | 658,672,302 | 1,178,627,900    | 1997\n",
       "3         | Jurassic World                            | Universal            | 652,270,625 | 687,728,000      | 2015\n",
       "4         | Marvel's The Avengers                     | Buena Vista (Disney) | 623,357,910 | 668,866,600      | 2012\n",
       "5         | The Dark Knight                           | Warner Bros.         | 534,858,444 | 647,761,600      | 2008\n",
       "6         | Star Wars: Episode I - The Phantom Menace | Fox                  | 474,544,677 | 785,715,000      | 1999\n",
       "7         | Star Wars                                 | Fox                  | 460,998,007 | 1,549,640,500    | 1977\n",
       "8         | Avengers: Age of Ultron                   | Buena Vista (Disney) | 459,005,868 | 465,684,200      | 2015\n",
       "9         | The Dark Knight Rises                     | Warner Bros.         | 448,139,099 | 500,961,700      | 2012\n",
       "... (190 rows omitted)"
      ]
     },
     "execution_count": 53,
     "metadata": {},
     "output_type": "execute_result"
    }
   ],
   "source": [
    "top1 = Table.read_table('top_movies.csv')\n",
    "top2 = top1.with_column('Row Index', np.arange(top1.num_rows))\n",
    "top = top2.move_to_start('Row Index')\n",
    "top.set_format(make_array(3, 4), NumberFormatter)"
   ]
  },
  {
   "cell_type": "code",
   "execution_count": 56,
   "metadata": {},
   "outputs": [
    {
     "data": {
      "text/html": [
       "<table border=\"1\" class=\"dataframe\">\n",
       "    <thead>\n",
       "        <tr>\n",
       "            <th>Row Index</th> <th>Title</th> <th>Studio</th> <th>Gross</th> <th>Gross (Adjusted)</th> <th>Year</th>\n",
       "        </tr>\n",
       "    </thead>\n",
       "    <tbody>\n",
       "        <tr>\n",
       "            <td>3        </td> <td>Jurassic World    </td> <td>Universal</td> <td>652,270,625</td> <td>687,728,000     </td> <td>2015</td>\n",
       "        </tr>\n",
       "        <tr>\n",
       "            <td>18       </td> <td>Spider-Man        </td> <td>Sony     </td> <td>403,706,375</td> <td>604,517,300     </td> <td>2002</td>\n",
       "        </tr>\n",
       "        <tr>\n",
       "            <td>100      </td> <td>Gone with the Wind</td> <td>MGM      </td> <td>198,676,459</td> <td>1,757,788,200   </td> <td>1939</td>\n",
       "        </tr>\n",
       "    </tbody>\n",
       "</table>"
      ],
      "text/plain": [
       "Row Index | Title              | Studio    | Gross       | Gross (Adjusted) | Year\n",
       "3         | Jurassic World     | Universal | 652,270,625 | 687,728,000      | 2015\n",
       "18        | Spider-Man         | Sony      | 403,706,375 | 604,517,300      | 2002\n",
       "100       | Gone with the Wind | MGM       | 198,676,459 | 1,757,788,200    | 1939"
      ]
     },
     "execution_count": 56,
     "metadata": {},
     "output_type": "execute_result"
    }
   ],
   "source": [
    "# When you simply specify which elements of a set you want to choose you create a deterministic sample.\n",
    "'''******************* Deterministic Samples********************'''\n",
    "'''******************* You have done this many times, for example by using take or where: ********************'''\n",
    "top.take(make_array(3, 18, 100))\n",
    "# make_array(3, 18, 100)\n",
    "# top2.take(make_array('Jurassic Word')) IS WRONG!! THE FIRST COLUMN MUST BE NUMBERS TO USE \"TAKE\""
   ]
  },
  {
   "cell_type": "code",
   "execution_count": 58,
   "metadata": {},
   "outputs": [
    {
     "data": {
      "text/html": [
       "<table border=\"1\" class=\"dataframe\">\n",
       "    <thead>\n",
       "        <tr>\n",
       "            <th>Row Index</th> <th>Title</th> <th>Studio</th> <th>Gross</th> <th>Gross (Adjusted)</th> <th>Year</th>\n",
       "        </tr>\n",
       "    </thead>\n",
       "    <tbody>\n",
       "        <tr>\n",
       "            <td>22       </td> <td>Harry Potter and the Deathly Hallows Part 2</td> <td>Warner Bros.</td> <td>381,011,219</td> <td>417,512,200     </td> <td>2011</td>\n",
       "        </tr>\n",
       "        <tr>\n",
       "            <td>43       </td> <td>Harry Potter and the Sorcerer's Stone      </td> <td>Warner Bros.</td> <td>317,575,550</td> <td>486,442,900     </td> <td>2001</td>\n",
       "        </tr>\n",
       "        <tr>\n",
       "            <td>54       </td> <td>Harry Potter and the Half-Blood Prince     </td> <td>Warner Bros.</td> <td>301,959,197</td> <td>352,098,800     </td> <td>2009</td>\n",
       "        </tr>\n",
       "        <tr>\n",
       "            <td>59       </td> <td>Harry Potter and the Order of the Phoenix  </td> <td>Warner Bros.</td> <td>292,004,738</td> <td>369,250,200     </td> <td>2007</td>\n",
       "        </tr>\n",
       "        <tr>\n",
       "            <td>62       </td> <td>Harry Potter and the Goblet of Fire        </td> <td>Warner Bros.</td> <td>290,013,036</td> <td>393,024,800     </td> <td>2005</td>\n",
       "        </tr>\n",
       "        <tr>\n",
       "            <td>69       </td> <td>Harry Potter and the Chamber of Secrets    </td> <td>Warner Bros.</td> <td>261,988,482</td> <td>390,768,100     </td> <td>2002</td>\n",
       "        </tr>\n",
       "        <tr>\n",
       "            <td>76       </td> <td>Harry Potter and the Prisoner of Azkaban   </td> <td>Warner Bros.</td> <td>249,541,069</td> <td>349,598,600     </td> <td>2004</td>\n",
       "        </tr>\n",
       "    </tbody>\n",
       "</table>"
      ],
      "text/plain": [
       "Row Index | Title                                       | Studio       | Gross       | Gross (Adjusted) | Year\n",
       "22        | Harry Potter and the Deathly Hallows Part 2 | Warner Bros. | 381,011,219 | 417,512,200      | 2011\n",
       "43        | Harry Potter and the Sorcerer's Stone       | Warner Bros. | 317,575,550 | 486,442,900      | 2001\n",
       "54        | Harry Potter and the Half-Blood Prince      | Warner Bros. | 301,959,197 | 352,098,800      | 2009\n",
       "59        | Harry Potter and the Order of the Phoenix   | Warner Bros. | 292,004,738 | 369,250,200      | 2007\n",
       "62        | Harry Potter and the Goblet of Fire         | Warner Bros. | 290,013,036 | 393,024,800      | 2005\n",
       "69        | Harry Potter and the Chamber of Secrets     | Warner Bros. | 261,988,482 | 390,768,100      | 2002\n",
       "76        | Harry Potter and the Prisoner of Azkaban    | Warner Bros. | 249,541,069 | 349,598,600      | 2004"
      ]
     },
     "execution_count": 58,
     "metadata": {},
     "output_type": "execute_result"
    }
   ],
   "source": [
    "'''*******************  You have also used where , for example by using are.containing : ********************'''\n",
    "top.where('Title', are.containing('Harry Potter'))"
   ]
  },
  {
   "cell_type": "code",
   "execution_count": null,
   "metadata": {},
   "outputs": [],
   "source": [
    "'''  ********* Probability Sample      *********\n",
    "A probability sample is one for which it is possible to calculate, before the sample is drawn, \n",
    "the chance with which any subset of elements will enter the sample.\n",
    "In a probability sample, all elements need not have the same chance of being chosen.\n",
    "'''\n",
    "\n",
    "'''\n",
    "A Random Sampling Scheme\n",
    "\n",
    "\n",
    "This is a probability sample of size 2. Here are the chances of entry for all non-empty subsets:\n",
    "\n",
    "A: 1 \n",
    "B: 1/2\n",
    "C: 1/2\n",
    "AB: 1/2\n",
    "AC: 1/2\n",
    "BC: 0\n",
    "ABC: 0\n",
    "'''"
   ]
  },
  {
   "cell_type": "code",
   "execution_count": 62,
   "metadata": {},
   "outputs": [
    {
     "data": {
      "text/html": [
       "<table border=\"1\" class=\"dataframe\">\n",
       "    <thead>\n",
       "        <tr>\n",
       "            <th>Row Index</th> <th>Title</th> <th>Studio</th> <th>Gross</th> <th>Gross (Adjusted)</th> <th>Year</th>\n",
       "        </tr>\n",
       "    </thead>\n",
       "    <tbody>\n",
       "        <tr>\n",
       "            <td>5        </td> <td>The Dark Knight                                  </td> <td>Warner Bros.        </td> <td>534,858,444</td> <td>647,761,600     </td> <td>2008</td>\n",
       "        </tr>\n",
       "        <tr>\n",
       "            <td>15       </td> <td>Toy Story 3                                      </td> <td>Buena Vista (Disney)</td> <td>415,004,880</td> <td>454,156,300     </td> <td>2010</td>\n",
       "        </tr>\n",
       "        <tr>\n",
       "            <td>25       </td> <td>The Lord of the Rings: The Return of the King    </td> <td>New Line            </td> <td>377,845,905</td> <td>536,265,400     </td> <td>2003</td>\n",
       "        </tr>\n",
       "        <tr>\n",
       "            <td>35       </td> <td>Spider-Man 3                                     </td> <td>Sony                </td> <td>336,530,303</td> <td>425,554,300     </td> <td>2007</td>\n",
       "        </tr>\n",
       "        <tr>\n",
       "            <td>45       </td> <td>The Lord of the Rings: The Fellowship of the Ring</td> <td>New Line            </td> <td>315,544,750</td> <td>476,753,700     </td> <td>2001</td>\n",
       "        </tr>\n",
       "        <tr>\n",
       "            <td>55       </td> <td>The Twilight Saga: Eclipse                       </td> <td>Sum.                </td> <td>300,531,751</td> <td>328,883,800     </td> <td>2010</td>\n",
       "        </tr>\n",
       "        <tr>\n",
       "            <td>65       </td> <td>The Matrix Reloaded                              </td> <td>Warner Bros.        </td> <td>281,576,461</td> <td>406,254,600     </td> <td>2003</td>\n",
       "        </tr>\n",
       "        <tr>\n",
       "            <td>75       </td> <td>Men in Black                                     </td> <td>Sony                </td> <td>250,690,539</td> <td>475,165,100     </td> <td>1997</td>\n",
       "        </tr>\n",
       "        <tr>\n",
       "            <td>85       </td> <td>Cast Away                                        </td> <td>Fox                 </td> <td>233,632,142</td> <td>364,479,500     </td> <td>2000</td>\n",
       "        </tr>\n",
       "        <tr>\n",
       "            <td>95       </td> <td>Mission: Impossible II                           </td> <td>Paramount           </td> <td>215,409,889</td> <td>347,693,200     </td> <td>2000</td>\n",
       "        </tr>\n",
       "    </tbody>\n",
       "</table>\n",
       "<p>... (10 rows omitted)</p>"
      ],
      "text/plain": [
       "Row Index | Title                                             | Studio               | Gross       | Gross (Adjusted) | Year\n",
       "5         | The Dark Knight                                   | Warner Bros.         | 534,858,444 | 647,761,600      | 2008\n",
       "15        | Toy Story 3                                       | Buena Vista (Disney) | 415,004,880 | 454,156,300      | 2010\n",
       "25        | The Lord of the Rings: The Return of the King     | New Line             | 377,845,905 | 536,265,400      | 2003\n",
       "35        | Spider-Man 3                                      | Sony                 | 336,530,303 | 425,554,300      | 2007\n",
       "45        | The Lord of the Rings: The Fellowship of the Ring | New Line             | 315,544,750 | 476,753,700      | 2001\n",
       "55        | The Twilight Saga: Eclipse                        | Sum.                 | 300,531,751 | 328,883,800      | 2010\n",
       "65        | The Matrix Reloaded                               | Warner Bros.         | 281,576,461 | 406,254,600      | 2003\n",
       "75        | Men in Black                                      | Sony                 | 250,690,539 | 475,165,100      | 1997\n",
       "85        | Cast Away                                         | Fox                  | 233,632,142 | 364,479,500      | 2000\n",
       "95        | Mission: Impossible II                            | Paramount            | 215,409,889 | 347,693,200      | 2000\n",
       "... (10 rows omitted)"
      ]
     },
     "execution_count": 62,
     "metadata": {},
     "output_type": "execute_result"
    }
   ],
   "source": [
    "'''  ********* Systematic Sample      *********\n",
    "Imagine all the elements of the population listed in a sequence. One method of sampling starts by choosing a random position \n",
    "early in the list, and then evenly spaced positions after that. The sample consists of the elements in those positions. \n",
    "Such a sample is called a systematic sample.\n",
    "\n",
    "Here we will choose a systematic sample of the rows of top. We will start by picking one of the first 10 rows at random, \n",
    "and then we will pick every 10th row after that.\n",
    "'''\n",
    "\"\"\"Choose a random start among rows 0 through 9;\n",
    "then take every 10th row.\"\"\"\n",
    "\n",
    "start = np.random.choice(np.arange(10))\n",
    "top.take(np.arange(start, top.num_rows, 10))\n",
    "\n",
    "# Run the cell a few times to see how the output varies."
   ]
  },
  {
   "cell_type": "code",
   "execution_count": null,
   "metadata": {},
   "outputs": [],
   "source": [
    "'''   ********* Systematic Sample      *********\n",
    "This systematic sample is a probability sample. In this scheme, all rows have chance 1/10 of being chosen. For example, \n",
    "Row 23 is chosen if and only if Row 3 is chosen, and the chance of that is 1/10.\n",
    "\n",
    "But not all subsets have the same chance of being chosen. Because the selected rows are evenly spaced, \n",
    "most subsets of rows have no chance of being chosen. The only subsets that are possible are those that consist of rows \n",
    "all separated by multiples of 10. Any of those subsets is selected with chance 1/10. Other subsets, like the subset containing \n",
    "the first 11 rows of the table, are selected with chance 0.\n",
    "'''"
   ]
  },
  {
   "cell_type": "code",
   "execution_count": null,
   "metadata": {},
   "outputs": [],
   "source": [
    "'''\n",
    "Random Samples Drawn With or Without Replacement\n",
    "\n",
    "The first is random sampling with replacement, which (as we have seen earlier) is the default behavior of np.random.choice \n",
    "when it samples from an array.\n",
    "\n",
    "The other, called a \"simple random sample\", is a sample drawn at random without replacement. \n",
    "\n",
    "Drawing a random sample requires care and precision. It is not haphazard, even though that is a colloquial meaning of the word \"random\". \n",
    "If you stand at a street corner and take as your sample the first ten people who pass by, you might think you're sampling at random because you didn't choose who walked by.\n",
    "But it's not a random sample – it's a sample of convenience.\n",
    "You didn't know ahead of time the probability of each person entering the sample; perhaps you hadn't even specified exactly who was in the population.\n",
    "'''"
   ]
  },
  {
   "cell_type": "code",
   "execution_count": 2,
   "metadata": {
    "scrolled": true
   },
   "outputs": [
    {
     "data": {
      "text/plain": [
       "['one_plus_one',\n",
       " 'two_plus_one',\n",
       " 'three_plus_one',\n",
       " 'four_plus_one',\n",
       " 'five_plus_one',\n",
       " 'one_plus_one_plus_one',\n",
       " 'two_plus_one_plus_one',\n",
       " 'three_plus_one_plus_one',\n",
       " 'four_plus_one_plus_one',\n",
       " 'five_plus_one_plus_one',\n",
       " 'one_plus_one_plus_one_plus_one',\n",
       " 'two_plus_one_plus_one_plus_one',\n",
       " 'three_plus_one_plus_one_plus_one',\n",
       " 'four_plus_one_plus_one_plus_one',\n",
       " 'five_plus_one_plus_one_plus_one',\n",
       " 'one_plus_one_plus_one_plus_one_plus_one',\n",
       " 'two_plus_one_plus_one_plus_one_plus_one',\n",
       " 'three_plus_one_plus_one_plus_one_plus_one',\n",
       " 'four_plus_one_plus_one_plus_one_plus_one',\n",
       " 'five_plus_one_plus_one_plus_one_plus_one']"
      ]
     },
     "execution_count": 2,
     "metadata": {},
     "output_type": "execute_result"
    }
   ],
   "source": [
    "strlist = ['one', 'two', 'three', 'four', 'five']\n",
    "\n",
    "strplusonelist = []\n",
    "plusone = '_plus_one'\n",
    "currrentplusone = ''\n",
    "\n",
    "for i in range(4):\n",
    "    currrentplusone = currrentplusone + plusone\n",
    "    for myvar in strlist:\n",
    "        myvar = myvar + currrentplusone \n",
    "        strplusonelist.append(myvar)\n",
    "        \n",
    "strplusonelist"
   ]
  },
  {
   "cell_type": "code",
   "execution_count": 3,
   "metadata": {},
   "outputs": [
    {
     "name": "stdout",
     "output_type": "stream",
     "text": [
      "apple was found!\n",
      "This is orange. Its length is 6\n",
      "This is banana. Its length is 6\n"
     ]
    }
   ],
   "source": [
    "from datascience import *\n",
    "fruits = make_array('apple','orange','banana')\n",
    "for fruit in fruits:\n",
    "    if len(fruit) %2 == 0:\n",
    "        print(\"This is \" + fruit + \". Its length is \" + str(len(fruit)))\n",
    "    if 'apple' == fruit:\n",
    "        print(fruit + \" was found!\")"
   ]
  },
  {
   "cell_type": "code",
   "execution_count": 53,
   "metadata": {},
   "outputs": [
    {
     "name": "stdout",
     "output_type": "stream",
     "text": [
      "4\n",
      "5\n",
      "6\n",
      "4\n",
      "5\n",
      "6\n",
      "4\n",
      "5\n",
      "6\n"
     ]
    },
    {
     "data": {
      "text/plain": [
       "36"
      ]
     },
     "execution_count": 53,
     "metadata": {},
     "output_type": "execute_result"
    }
   ],
   "source": [
    "import numpy as np\n",
    "def foo():\n",
    "    for i in np.arange(3):\n",
    "        for i in range(4,7):\n",
    "            print(i)\n",
    "    return i ** 2\n",
    "foo()"
   ]
  },
  {
   "cell_type": "code",
   "execution_count": null,
   "metadata": {},
   "outputs": [],
   "source": [
    " '''\n",
    " bool values\n",
    " \n",
    " a = Ture, b = False, not a, a or b, a and b, a and not b, not (a or b), b and b\n",
    " are.above(3) #predictive function\n",
    " '''"
   ]
  },
  {
   "cell_type": "code",
   "execution_count": 69,
   "metadata": {},
   "outputs": [
    {
     "name": "stdout",
     "output_type": "stream",
     "text": [
      "You rolled a 3 and a 3.\n"
     ]
    }
   ],
   "source": [
    "lower = 1\n",
    "upper = 6\n",
    "\n",
    "roll1 = np.random.randint(lower, upper) # randint is not inclusive\n",
    "roll2 = np.random.randint(lower, upper)\n",
    "\n",
    "print(\"You rolled a \" + str(roll1) +\" and a \" + str(roll2) + \".\")"
   ]
  },
  {
   "cell_type": "code",
   "execution_count": 71,
   "metadata": {},
   "outputs": [
    {
     "data": {
      "text/plain": [
       "(7, 4)"
      ]
     },
     "execution_count": 71,
     "metadata": {},
     "output_type": "execute_result"
    }
   ],
   "source": [
    "data = make_array('low', \n",
    "                  'high', \n",
    "                  'high', \n",
    "                  'low',\n",
    "                  'low',\n",
    "                  'low',\n",
    "                  'high',\n",
    "                  'low',\n",
    "                  'high',\n",
    "                  'low',\n",
    "                   'low')\n",
    "low = np.count_nonzero(data == 'low')\n",
    "high = np.count_nonzero(data == 'high')\n",
    "low, high"
   ]
  },
  {
   "cell_type": "code",
   "execution_count": 72,
   "metadata": {},
   "outputs": [
    {
     "data": {
      "text/plain": [
       "(0.6363636363636364, 0.36363636363636365)"
      ]
     },
     "execution_count": 72,
     "metadata": {},
     "output_type": "execute_result"
    }
   ],
   "source": [
    "p_low = low / len(data)\n",
    "p_high = high / len(data)\n",
    "p_low, p_high"
   ]
  },
  {
   "cell_type": "code",
   "execution_count": 73,
   "metadata": {},
   "outputs": [
    {
     "data": {
      "text/html": [
       "<table border=\"1\" class=\"dataframe\">\n",
       "    <thead>\n",
       "        <tr>\n",
       "            <th>day</th> <th>count</th>\n",
       "        </tr>\n",
       "    </thead>\n",
       "    <tbody>\n",
       "        <tr>\n",
       "            <td>F   </td> <td>2    </td>\n",
       "        </tr>\n",
       "        <tr>\n",
       "            <td>M   </td> <td>6    </td>\n",
       "        </tr>\n",
       "        <tr>\n",
       "            <td>Sa  </td> <td>2    </td>\n",
       "        </tr>\n",
       "        <tr>\n",
       "            <td>Su  </td> <td>1    </td>\n",
       "        </tr>\n",
       "        <tr>\n",
       "            <td>T   </td> <td>3    </td>\n",
       "        </tr>\n",
       "        <tr>\n",
       "            <td>Th  </td> <td>1    </td>\n",
       "        </tr>\n",
       "        <tr>\n",
       "            <td>W   </td> <td>2    </td>\n",
       "        </tr>\n",
       "    </tbody>\n",
       "</table>"
      ],
      "text/plain": [
       "day  | count\n",
       "F    | 2\n",
       "M    | 6\n",
       "Sa   | 2\n",
       "Su   | 1\n",
       "T    | 3\n",
       "Th   | 1\n",
       "W    | 2"
      ]
     },
     "execution_count": 73,
     "metadata": {},
     "output_type": "execute_result"
    }
   ],
   "source": [
    "days = make_array('M',\n",
    "                 'T',\n",
    "                 'T',\n",
    "                 'Th',\n",
    "                 'F',\n",
    "                 'M',\n",
    "                 'M',\n",
    "                 'T',\n",
    "                 'W',\n",
    "                 'M',\n",
    "                 'F',\n",
    "                 'M',\n",
    "                 'M',\n",
    "                 'W',\n",
    "                 'Sa',\n",
    "                 'Sa',\n",
    "                 'Su')\n",
    "table = Table().with_column('day', days)\n",
    "counts = table.group('day')\n",
    "counts"
   ]
  },
  {
   "cell_type": "code",
   "execution_count": 74,
   "metadata": {},
   "outputs": [
    {
     "data": {
      "text/plain": [
       "0.35294117647058826"
      ]
     },
     "execution_count": 74,
     "metadata": {},
     "output_type": "execute_result"
    }
   ],
   "source": [
    "def P(D=''):\n",
    "    row = counts.where('day', D)\n",
    "    count = row.column('count')[0]\n",
    "    prob = count / sum(counts.column('count'))\n",
    "    return prob\n",
    "P('M')"
   ]
  },
  {
   "cell_type": "code",
   "execution_count": 77,
   "metadata": {},
   "outputs": [
    {
     "data": {
      "text/plain": [
       "array(['M', 'T', 'T', 'Th', 'F', 'M', 'M', 'T', 'W', 'M', 'F', 'M', 'M',\n",
       "       'W', 'Sa', 'Sa', 'Su'], dtype='<U2')"
      ]
     },
     "execution_count": 77,
     "metadata": {},
     "output_type": "execute_result"
    }
   ],
   "source": [
    "day_col = table.column('day')\n",
    "day_col"
   ]
  },
  {
   "cell_type": "code",
   "execution_count": 78,
   "metadata": {},
   "outputs": [
    {
     "data": {
      "text/plain": [
       "{'F', 'M', 'Sa', 'Su', 'T', 'Th', 'W'}"
      ]
     },
     "execution_count": 78,
     "metadata": {},
     "output_type": "execute_result"
    }
   ],
   "source": [
    "set(day_col)"
   ]
  },
  {
   "cell_type": "code",
   "execution_count": 79,
   "metadata": {},
   "outputs": [
    {
     "data": {
      "text/plain": [
       "1.0"
      ]
     },
     "execution_count": 79,
     "metadata": {},
     "output_type": "execute_result"
    }
   ],
   "source": [
    "p = 0\n",
    "for d in set(day_col):\n",
    "    p = p + P(d)\n",
    "round(p,7)"
   ]
  },
  {
   "cell_type": "code",
   "execution_count": 80,
   "metadata": {},
   "outputs": [
    {
     "data": {
      "text/plain": [
       "1.0"
      ]
     },
     "execution_count": 80,
     "metadata": {},
     "output_type": "execute_result"
    }
   ],
   "source": [
    "round(sum([P(d) for d in set(day_col)]),7)"
   ]
  },
  {
   "cell_type": "code",
   "execution_count": 82,
   "metadata": {},
   "outputs": [
    {
     "data": {
      "text/html": [
       "<table border=\"1\" class=\"dataframe\">\n",
       "    <thead>\n",
       "        <tr>\n",
       "            <th>price</th> <th>day</th>\n",
       "        </tr>\n",
       "    </thead>\n",
       "    <tbody>\n",
       "        <tr>\n",
       "            <td>low  </td> <td>M   </td>\n",
       "        </tr>\n",
       "        <tr>\n",
       "            <td>high </td> <td>T   </td>\n",
       "        </tr>\n",
       "        <tr>\n",
       "            <td>high </td> <td>T   </td>\n",
       "        </tr>\n",
       "        <tr>\n",
       "            <td>low  </td> <td>Th  </td>\n",
       "        </tr>\n",
       "        <tr>\n",
       "            <td>low  </td> <td>F   </td>\n",
       "        </tr>\n",
       "        <tr>\n",
       "            <td>low  </td> <td>M   </td>\n",
       "        </tr>\n",
       "        <tr>\n",
       "            <td>high </td> <td>M   </td>\n",
       "        </tr>\n",
       "        <tr>\n",
       "            <td>low  </td> <td>T   </td>\n",
       "        </tr>\n",
       "        <tr>\n",
       "            <td>high </td> <td>W   </td>\n",
       "        </tr>\n",
       "        <tr>\n",
       "            <td>low  </td> <td>M   </td>\n",
       "        </tr>\n",
       "    </tbody>\n",
       "</table>\n",
       "<p>... (1 rows omitted)</p>"
      ],
      "text/plain": [
       "price | day\n",
       "low   | M\n",
       "high  | T\n",
       "high  | T\n",
       "low   | Th\n",
       "low   | F\n",
       "low   | M\n",
       "high  | M\n",
       "low   | T\n",
       "high  | W\n",
       "low   | M\n",
       "... (1 rows omitted)"
      ]
     },
     "execution_count": 82,
     "metadata": {},
     "output_type": "execute_result"
    }
   ],
   "source": [
    "data = make_array('low', \n",
    "                  'high', \n",
    "                  'high', \n",
    "                  'low',\n",
    "                  'low',\n",
    "                  'low',\n",
    "                  'high',\n",
    "                  'low',\n",
    "                  'high',\n",
    "                  'low',\n",
    "                   'low')\n",
    "\n",
    "days = make_array('M',\n",
    "                 'T',\n",
    "                 'T',\n",
    "                 'Th',\n",
    "                 'F',\n",
    "                 'M',\n",
    "                 'M',\n",
    "                 'T',\n",
    "                 'W',\n",
    "                 'M',\n",
    "                 'F')\n",
    "\n",
    "# taco price at Tin Roof Tacos\n",
    "table = Table()\n",
    "table = table.with_column('price', data)\n",
    "table = table.with_column('day', days)\n",
    "table"
   ]
  },
  {
   "cell_type": "code",
   "execution_count": 83,
   "metadata": {},
   "outputs": [
    {
     "data": {
      "text/plain": [
       "11"
      ]
     },
     "execution_count": 83,
     "metadata": {},
     "output_type": "execute_result"
    }
   ],
   "source": [
    "total_count = table.num_rows\n",
    "total_count"
   ]
  },
  {
   "cell_type": "code",
   "execution_count": 84,
   "metadata": {},
   "outputs": [
    {
     "data": {
      "text/plain": [
       "(7, 4)"
      ]
     },
     "execution_count": 84,
     "metadata": {},
     "output_type": "execute_result"
    }
   ],
   "source": [
    "low_count = np.count_nonzero(table.column('price') == 'low')\n",
    "high_count = np.count_nonzero(table.column('price') == 'high')\n",
    "low, high"
   ]
  },
  {
   "cell_type": "code",
   "execution_count": 87,
   "metadata": {},
   "outputs": [
    {
     "name": "stdout",
     "output_type": "stream",
     "text": [
      "('M', (3, 1))\n",
      "('T', (1, 2))\n",
      "('W', (0, 1))\n",
      "('F', (2, 0))\n",
      "('Th', (1, 0))\n"
     ]
    }
   ],
   "source": [
    "days_counts = []\n",
    "\n",
    "for d in set(table.column('day')):\n",
    "    day = table.where('day',d)\n",
    "    low_c = np.count_nonzero(day.column('price') == 'low')\n",
    "    high_c = np.count_nonzero(day.column('price') == 'high')\n",
    "    days_counts.append((d,(low_c,high_c)))\n",
    "    \n",
    "for i in days_counts:\n",
    "    print(i)"
   ]
  },
  {
   "cell_type": "code",
   "execution_count": 88,
   "metadata": {},
   "outputs": [],
   "source": [
    "def Pprice(X):\n",
    "    if X == 'low':\n",
    "        return low_count / total_count\n",
    "    if X == 'high':\n",
    "        return high_count / total_count"
   ]
  },
  {
   "cell_type": "code",
   "execution_count": 89,
   "metadata": {},
   "outputs": [
    {
     "data": {
      "text/plain": [
       "1.0"
      ]
     },
     "execution_count": 89,
     "metadata": {},
     "output_type": "execute_result"
    }
   ],
   "source": [
    "''' **********   Conditional Probability Indepedent *********** '''\n",
    "\n",
    "def P(Pr='',D=''):\n",
    "    for d in days_counts:\n",
    "        if d[0]== D:\n",
    "            low = d[1][0]\n",
    "            high = d[1][1]\n",
    "            if Pr == 'low':\n",
    "                return low / (high+low)\n",
    "            if Pr == 'high':\n",
    "                return high / (high+low)\n",
    "P('high', 'W')"
   ]
  },
  {
   "cell_type": "code",
   "execution_count": 91,
   "metadata": {},
   "outputs": [
    {
     "name": "stdout",
     "output_type": "stream",
     "text": [
      "M 0.75\n",
      "T 0.3333333333333333\n",
      "W 0.0\n",
      "F 1.0\n",
      "Th 1.0\n"
     ]
    }
   ],
   "source": [
    "for d in set(table.column('day')):\n",
    "    print(d, P('low', d))"
   ]
  },
  {
   "cell_type": "code",
   "execution_count": null,
   "metadata": {},
   "outputs": [],
   "source": [
    "''' **********   Conditional Probability Indepedent *********** '''\n",
    "# Pprice('high') * Pday('W') and P('high', 'W') are independant"
   ]
  },
  {
   "cell_type": "code",
   "execution_count": 92,
   "metadata": {},
   "outputs": [
    {
     "data": {
      "text/html": [
       "<table border=\"1\" class=\"dataframe\">\n",
       "    <thead>\n",
       "        <tr>\n",
       "            <th>Serial Number</th>\n",
       "        </tr>\n",
       "    </thead>\n",
       "    <tbody>\n",
       "        <tr>\n",
       "            <td>1            </td>\n",
       "        </tr>\n",
       "        <tr>\n",
       "            <td>2            </td>\n",
       "        </tr>\n",
       "        <tr>\n",
       "            <td>3            </td>\n",
       "        </tr>\n",
       "        <tr>\n",
       "            <td>4            </td>\n",
       "        </tr>\n",
       "        <tr>\n",
       "            <td>5            </td>\n",
       "        </tr>\n",
       "        <tr>\n",
       "            <td>6            </td>\n",
       "        </tr>\n",
       "        <tr>\n",
       "            <td>7            </td>\n",
       "        </tr>\n",
       "        <tr>\n",
       "            <td>8            </td>\n",
       "        </tr>\n",
       "        <tr>\n",
       "            <td>9            </td>\n",
       "        </tr>\n",
       "        <tr>\n",
       "            <td>10           </td>\n",
       "        </tr>\n",
       "    </tbody>\n",
       "</table>\n",
       "<p>... (490 rows omitted)</p>"
      ],
      "text/plain": [
       "Serial Number\n",
       "1\n",
       "2\n",
       "3\n",
       "4\n",
       "5\n",
       "6\n",
       "7\n",
       "8\n",
       "9\n",
       "10\n",
       "... (490 rows omitted)"
      ]
     },
     "execution_count": 92,
     "metadata": {},
     "output_type": "execute_result"
    }
   ],
   "source": [
    "num_planes=500\n",
    "\n",
    "serial_num = Table().with_columns(\"Serial Number\", np.arange(1,num_planes+1))\n",
    "serial_num"
   ]
  },
  {
   "cell_type": "code",
   "execution_count": 94,
   "metadata": {},
   "outputs": [
    {
     "data": {
      "text/html": [
       "<table border=\"1\" class=\"dataframe\">\n",
       "    <thead>\n",
       "        <tr>\n",
       "            <th>Serial Number</th>\n",
       "        </tr>\n",
       "    </thead>\n",
       "    <tbody>\n",
       "        <tr>\n",
       "            <td>251          </td>\n",
       "        </tr>\n",
       "        <tr>\n",
       "            <td>5            </td>\n",
       "        </tr>\n",
       "        <tr>\n",
       "            <td>137          </td>\n",
       "        </tr>\n",
       "        <tr>\n",
       "            <td>256          </td>\n",
       "        </tr>\n",
       "        <tr>\n",
       "            <td>196          </td>\n",
       "        </tr>\n",
       "        <tr>\n",
       "            <td>351          </td>\n",
       "        </tr>\n",
       "        <tr>\n",
       "            <td>395          </td>\n",
       "        </tr>\n",
       "        <tr>\n",
       "            <td>350          </td>\n",
       "        </tr>\n",
       "        <tr>\n",
       "            <td>123          </td>\n",
       "        </tr>\n",
       "        <tr>\n",
       "            <td>150          </td>\n",
       "        </tr>\n",
       "    </tbody>\n",
       "</table>\n",
       "<p>... (20 rows omitted)</p>"
      ],
      "text/plain": [
       "Serial Number\n",
       "251\n",
       "5\n",
       "137\n",
       "256\n",
       "196\n",
       "351\n",
       "395\n",
       "350\n",
       "123\n",
       "150\n",
       "... (20 rows omitted)"
      ]
     },
     "execution_count": 94,
     "metadata": {},
     "output_type": "execute_result"
    }
   ],
   "source": [
    "serial_num.sample(30)"
   ]
  },
  {
   "cell_type": "code",
   "execution_count": 96,
   "metadata": {},
   "outputs": [
    {
     "data": {
      "text/plain": [
       "array([367,  68, 148,  44, 410, 237, 414, 247, 135, 172, 309, 158, 377,\n",
       "        55,  28, 177, 471, 106, 126, 272, 201, 449, 435, 464,  92, 323,\n",
       "        55, 223, 408, 261])"
      ]
     },
     "execution_count": 96,
     "metadata": {},
     "output_type": "execute_result"
    }
   ],
   "source": [
    "serial_num.sample(30).column(0)  # Convert from table to array"
   ]
  },
  {
   "cell_type": "code",
   "execution_count": 97,
   "metadata": {},
   "outputs": [
    {
     "name": "stdout",
     "output_type": "stream",
     "text": [
      "467\n",
      "44\n"
     ]
    }
   ],
   "source": [
    "print(serial_num.sample(30).column(0).max())\n",
    "print(serial_num.sample(30).column(0).min())"
   ]
  },
  {
   "cell_type": "code",
   "execution_count": 98,
   "metadata": {},
   "outputs": [
    {
     "data": {
      "text/html": [
       "<table border=\"1\" class=\"dataframe\">\n",
       "    <thead>\n",
       "        <tr>\n",
       "            <th>Max Serial Nums</th>\n",
       "        </tr>\n",
       "    </thead>\n",
       "    <tbody>\n",
       "        <tr>\n",
       "            <td>497            </td>\n",
       "        </tr>\n",
       "        <tr>\n",
       "            <td>475            </td>\n",
       "        </tr>\n",
       "        <tr>\n",
       "            <td>448            </td>\n",
       "        </tr>\n",
       "        <tr>\n",
       "            <td>493            </td>\n",
       "        </tr>\n",
       "        <tr>\n",
       "            <td>498            </td>\n",
       "        </tr>\n",
       "        <tr>\n",
       "            <td>489            </td>\n",
       "        </tr>\n",
       "        <tr>\n",
       "            <td>492            </td>\n",
       "        </tr>\n",
       "        <tr>\n",
       "            <td>494            </td>\n",
       "        </tr>\n",
       "        <tr>\n",
       "            <td>494            </td>\n",
       "        </tr>\n",
       "        <tr>\n",
       "            <td>497            </td>\n",
       "        </tr>\n",
       "    </tbody>\n",
       "</table>\n",
       "<p>... (740 rows omitted)</p>"
      ],
      "text/plain": [
       "Max Serial Nums\n",
       "497\n",
       "475\n",
       "448\n",
       "493\n",
       "498\n",
       "489\n",
       "492\n",
       "494\n",
       "494\n",
       "497\n",
       "... (740 rows omitted)"
      ]
     },
     "execution_count": 98,
     "metadata": {},
     "output_type": "execute_result"
    }
   ],
   "source": [
    "sample = 30\n",
    "repetitions = 750\n",
    "maxes = make_array()\n",
    "\n",
    "for item in np.arange(repetitions):\n",
    "    sampled_nums = serial_num.sample(sample)\n",
    "    maxes = np.append(maxes, sampled_nums.column(0).max())\n",
    "    \n",
    "Table().with_columns(\"Max Serial Nums\", maxes)"
   ]
  },
  {
   "cell_type": "code",
   "execution_count": 100,
   "metadata": {},
   "outputs": [
    {
     "data": {
      "image/png": "[encoded data removed]",
      "text/plain": [
       "<Figure size 432x288 with 1 Axes>"
      ]
     },
     "metadata": {},
     "output_type": "display_data"
    }
   ],
   "source": [
    "%matplotlib inline\n",
    "import matplotlib.pyplot as plots\n",
    "plots.style.use('fivethirtyeight')\n",
    "\n",
    "bins_size = np.arange(100, num_planes+100, 10)\n",
    "Table().with_columns(\"Max Serial Nums\", maxes).hist(bins=bins_size)"
   ]
  },
  {
   "cell_type": "code",
   "execution_count": 101,
   "metadata": {},
   "outputs": [
    {
     "data": {
      "text/html": [
       "<table border=\"1\" class=\"dataframe\">\n",
       "    <thead>\n",
       "        <tr>\n",
       "            <th>Ethnicity</th> <th>Eligible</th> <th>Panels</th>\n",
       "        </tr>\n",
       "    </thead>\n",
       "    <tbody>\n",
       "        <tr>\n",
       "            <td>Asian    </td> <td>0.15    </td> <td>0.26  </td>\n",
       "        </tr>\n",
       "        <tr>\n",
       "            <td>Black    </td> <td>0.18    </td> <td>0.08  </td>\n",
       "        </tr>\n",
       "        <tr>\n",
       "            <td>Latino   </td> <td>0.12    </td> <td>0.08  </td>\n",
       "        </tr>\n",
       "        <tr>\n",
       "            <td>White    </td> <td>0.54    </td> <td>0.54  </td>\n",
       "        </tr>\n",
       "        <tr>\n",
       "            <td>Other    </td> <td>0.01    </td> <td>0.04  </td>\n",
       "        </tr>\n",
       "    </tbody>\n",
       "</table>"
      ],
      "text/plain": [
       "Ethnicity | Eligible | Panels\n",
       "Asian     | 0.15     | 0.26\n",
       "Black     | 0.18     | 0.08\n",
       "Latino    | 0.12     | 0.08\n",
       "White     | 0.54     | 0.54\n",
       "Other     | 0.01     | 0.04"
      ]
     },
     "execution_count": 101,
     "metadata": {},
     "output_type": "execute_result"
    }
   ],
   "source": [
    "jury = Table().with_columns(\n",
    "    'Ethnicity', make_array('Asian', 'Black', 'Latino', 'White', 'Other'),\n",
    "    'Eligible', make_array(0.15, 0.18, 0.12, 0.54, 0.01),\n",
    "    'Panels', make_array(0.26, 0.08, 0.08, 0.54, 0.04)\n",
    ")\n",
    "\n",
    "jury"
   ]
  },
  {
   "cell_type": "code",
   "execution_count": 102,
   "metadata": {},
   "outputs": [
    {
     "data": {
      "image/png": "[encoded data removed]",
      "text/plain": [
       "<Figure size 432x288 with 1 Axes>"
      ]
     },
     "metadata": {},
     "output_type": "display_data"
    }
   ],
   "source": [
    "jury.barh(\"Ethnicity\")"
   ]
  },
  {
   "cell_type": "code",
   "execution_count": 103,
   "metadata": {},
   "outputs": [
    {
     "data": {
      "text/html": [
       "<table border=\"1\" class=\"dataframe\">\n",
       "    <thead>\n",
       "        <tr>\n",
       "            <th>Ethnicity</th> <th>Eligible</th> <th>Panels</th> <th>Difference</th>\n",
       "        </tr>\n",
       "    </thead>\n",
       "    <tbody>\n",
       "        <tr>\n",
       "            <td>Asian    </td> <td>0.15    </td> <td>0.26  </td> <td>0.11      </td>\n",
       "        </tr>\n",
       "        <tr>\n",
       "            <td>Black    </td> <td>0.18    </td> <td>0.08  </td> <td>-0.1      </td>\n",
       "        </tr>\n",
       "        <tr>\n",
       "            <td>Latino   </td> <td>0.12    </td> <td>0.08  </td> <td>-0.04     </td>\n",
       "        </tr>\n",
       "        <tr>\n",
       "            <td>White    </td> <td>0.54    </td> <td>0.54  </td> <td>0         </td>\n",
       "        </tr>\n",
       "        <tr>\n",
       "            <td>Other    </td> <td>0.01    </td> <td>0.04  </td> <td>0.03      </td>\n",
       "        </tr>\n",
       "    </tbody>\n",
       "</table>"
      ],
      "text/plain": [
       "Ethnicity | Eligible | Panels | Difference\n",
       "Asian     | 0.15     | 0.26   | 0.11\n",
       "Black     | 0.18     | 0.08   | -0.1\n",
       "Latino    | 0.12     | 0.08   | -0.04\n",
       "White     | 0.54     | 0.54   | 0\n",
       "Other     | 0.01     | 0.04   | 0.03"
      ]
     },
     "execution_count": 103,
     "metadata": {},
     "output_type": "execute_result"
    }
   ],
   "source": [
    "# Augment the table with a column of differences between proportions\n",
    "\n",
    "jury_with_diffs = jury.with_column(\n",
    "    'Difference', jury.column('Panels') - jury.column('Eligible')\n",
    ")\n",
    "jury_with_diffs"
   ]
  },
  {
   "cell_type": "code",
   "execution_count": 104,
   "metadata": {},
   "outputs": [
    {
     "data": {
      "text/html": [
       "<table border=\"1\" class=\"dataframe\">\n",
       "    <thead>\n",
       "        <tr>\n",
       "            <th>Ethnicity</th> <th>Eligible</th> <th>Panels</th> <th>Difference</th> <th>Abs. Diffs.</th>\n",
       "        </tr>\n",
       "    </thead>\n",
       "    <tbody>\n",
       "        <tr>\n",
       "            <td>Asian    </td> <td>0.15    </td> <td>0.26  </td> <td>0.11      </td> <td>0.11       </td>\n",
       "        </tr>\n",
       "        <tr>\n",
       "            <td>Black    </td> <td>0.18    </td> <td>0.08  </td> <td>-0.1      </td> <td>0.1        </td>\n",
       "        </tr>\n",
       "        <tr>\n",
       "            <td>Latino   </td> <td>0.12    </td> <td>0.08  </td> <td>-0.04     </td> <td>0.04       </td>\n",
       "        </tr>\n",
       "        <tr>\n",
       "            <td>White    </td> <td>0.54    </td> <td>0.54  </td> <td>0         </td> <td>0          </td>\n",
       "        </tr>\n",
       "        <tr>\n",
       "            <td>Other    </td> <td>0.01    </td> <td>0.04  </td> <td>0.03      </td> <td>0.03       </td>\n",
       "        </tr>\n",
       "    </tbody>\n",
       "</table>"
      ],
      "text/plain": [
       "Ethnicity | Eligible | Panels | Difference | Abs. Diffs.\n",
       "Asian     | 0.15     | 0.26   | 0.11       | 0.11\n",
       "Black     | 0.18     | 0.08   | -0.1       | 0.1\n",
       "Latino    | 0.12     | 0.08   | -0.04      | 0.04\n",
       "White     | 0.54     | 0.54   | 0          | 0\n",
       "Other     | 0.01     | 0.04   | 0.03       | 0.03"
      ]
     },
     "execution_count": 104,
     "metadata": {},
     "output_type": "execute_result"
    }
   ],
   "source": [
    "jury_with_diffs = jury_with_diffs.with_column(\"Abs. Diffs.\", np.abs(jury_with_diffs.column(\"Difference\")))\n",
    "jury_with_diffs"
   ]
  },
  {
   "cell_type": "code",
   "execution_count": 105,
   "metadata": {},
   "outputs": [
    {
     "data": {
      "text/plain": [
       "0.14"
      ]
     },
     "execution_count": 105,
     "metadata": {},
     "output_type": "execute_result"
    }
   ],
   "source": [
    "jury_with_diffs.column(\"Abs. Diffs.\").sum()/2   # Notice the problem of item=0 ( zero item )"
   ]
  },
  {
   "cell_type": "code",
   "execution_count": 106,
   "metadata": {},
   "outputs": [
    {
     "data": {
      "text/plain": [
       "0.14"
      ]
     },
     "execution_count": 106,
     "metadata": {},
     "output_type": "execute_result"
    }
   ],
   "source": [
    "def tvd(distribution_1, distribution_2):\n",
    "    total_var_diff = np.abs(distribution_1-distribution_2).sum()/2\n",
    "    return total_var_diff\n",
    "\n",
    "tvd(jury.column(1), jury.column(2))"
   ]
  },
  {
   "cell_type": "code",
   "execution_count": 107,
   "metadata": {},
   "outputs": [
    {
     "data": {
      "text/html": [
       "<table border=\"1\" class=\"dataframe\">\n",
       "    <thead>\n",
       "        <tr>\n",
       "            <th>Ethnicity</th> <th>Eligible</th> <th>Panels</th> <th>Random Sample</th>\n",
       "        </tr>\n",
       "    </thead>\n",
       "    <tbody>\n",
       "        <tr>\n",
       "            <td>Asian    </td> <td>0.15    </td> <td>0.26  </td> <td>0.152787     </td>\n",
       "        </tr>\n",
       "        <tr>\n",
       "            <td>Black    </td> <td>0.18    </td> <td>0.08  </td> <td>0.176875     </td>\n",
       "        </tr>\n",
       "        <tr>\n",
       "            <td>Latino   </td> <td>0.12    </td> <td>0.08  </td> <td>0.127323     </td>\n",
       "        </tr>\n",
       "        <tr>\n",
       "            <td>White    </td> <td>0.54    </td> <td>0.54  </td> <td>0.53682      </td>\n",
       "        </tr>\n",
       "        <tr>\n",
       "            <td>Other    </td> <td>0.01    </td> <td>0.04  </td> <td>0.00619408   </td>\n",
       "        </tr>\n",
       "    </tbody>\n",
       "</table>"
      ],
      "text/plain": [
       "Ethnicity | Eligible | Panels | Random Sample\n",
       "Asian     | 0.15     | 0.26   | 0.152787\n",
       "Black     | 0.18     | 0.08   | 0.176875\n",
       "Latino    | 0.12     | 0.08   | 0.127323\n",
       "White     | 0.54     | 0.54   | 0.53682\n",
       "Other     | 0.01     | 0.04   | 0.00619408"
      ]
     },
     "execution_count": 107,
     "metadata": {},
     "output_type": "execute_result"
    }
   ],
   "source": [
    "''' ***************   random sample  ****************** '''\n",
    "'''********************* proportions_from_distribution *****************'''\n",
    "panel_size = 1453\n",
    "panel_v_sample = proportions_from_distribution(jury, \"Eligible\", panel_size)   # panel_size?\n",
    "panel_v_sample"
   ]
  },
  {
   "cell_type": "code",
   "execution_count": 108,
   "metadata": {},
   "outputs": [
    {
     "data": {
      "image/png": "[encoded data removed]",
      "text/plain": [
       "<Figure size 432x288 with 1 Axes>"
      ]
     },
     "metadata": {},
     "output_type": "display_data"
    }
   ],
   "source": [
    "panel_v_sample.barh(\"Ethnicity\")"
   ]
  },
  {
   "cell_type": "code",
   "execution_count": 109,
   "metadata": {},
   "outputs": [
    {
     "data": {
      "text/plain": [
       "0.010110116999311762"
      ]
     },
     "execution_count": 109,
     "metadata": {},
     "output_type": "execute_result"
    }
   ],
   "source": [
    "tvd(panel_v_sample.column(1), panel_v_sample.column(3))   ## column(1) and column(3) are very close ?"
   ]
  },
  {
   "cell_type": "code",
   "execution_count": 110,
   "metadata": {},
   "outputs": [
    {
     "data": {
      "text/html": [
       "<table border=\"1\" class=\"dataframe\">\n",
       "    <thead>\n",
       "        <tr>\n",
       "            <th>TVD</th>\n",
       "        </tr>\n",
       "    </thead>\n",
       "    <tbody>\n",
       "        <tr>\n",
       "            <td>0.0268548 </td>\n",
       "        </tr>\n",
       "        <tr>\n",
       "            <td>0.0290158 </td>\n",
       "        </tr>\n",
       "        <tr>\n",
       "            <td>0.0200688 </td>\n",
       "        </tr>\n",
       "        <tr>\n",
       "            <td>0.00884377</td>\n",
       "        </tr>\n",
       "        <tr>\n",
       "            <td>0.0154783 </td>\n",
       "        </tr>\n",
       "        <tr>\n",
       "            <td>0.0319959 </td>\n",
       "        </tr>\n",
       "        <tr>\n",
       "            <td>0.0151273 </td>\n",
       "        </tr>\n",
       "        <tr>\n",
       "            <td>0.0177839 </td>\n",
       "        </tr>\n",
       "        <tr>\n",
       "            <td>0.0257261 </td>\n",
       "        </tr>\n",
       "        <tr>\n",
       "            <td>0.0142395 </td>\n",
       "        </tr>\n",
       "    </tbody>\n",
       "</table>\n",
       "<p>... (4990 rows omitted)</p>"
      ],
      "text/plain": [
       "TVD\n",
       "0.0268548\n",
       "0.0290158\n",
       "0.0200688\n",
       "0.00884377\n",
       "0.0154783\n",
       "0.0319959\n",
       "0.0151273\n",
       "0.0177839\n",
       "0.0257261\n",
       "0.0142395\n",
       "... (4990 rows omitted)"
      ]
     },
     "execution_count": 110,
     "metadata": {},
     "output_type": "execute_result"
    }
   ],
   "source": [
    "'''********************* proportions_from_distribution *****************''' \n",
    "panel_size = 1453\n",
    "repetitions = 5000\n",
    "\n",
    "tvds = make_array()\n",
    "\n",
    "for i in np.arange(repetitions):\n",
    "\n",
    "    new_sample = proportions_from_distribution(jury, 'Eligible', panel_size)\n",
    "    tvds = np.append(tvds, tvd(new_sample.column(1), new_sample.column(3)))\n",
    "\n",
    "results = Table().with_column('TVD', tvds)\n",
    "results ## column(1) and column(3) are very close ?"
   ]
  },
  {
   "cell_type": "code",
   "execution_count": 111,
   "metadata": {},
   "outputs": [
    {
     "data": {
      "image/png": "[encoded data removed]",
      "text/plain": [
       "<Figure size 432x288 with 1 Axes>"
      ]
     },
     "metadata": {},
     "output_type": "display_data"
    }
   ],
   "source": [
    "results.hist(bins=np.arange(0, 0.2, 0.005))"
   ]
  },
  {
   "cell_type": "code",
   "execution_count": 116,
   "metadata": {},
   "outputs": [
    {
     "name": "stdout",
     "output_type": "stream",
     "text": [
      "0.18000000000000002\n"
     ]
    }
   ],
   "source": [
    "swain_jury = Table().with_columns(\n",
    "    'Ethnicity', make_array('Black', 'Other'),\n",
    "    'Eligible', make_array(0.26, 0.74),\n",
    "    'Panel', make_array(0.08, 0.92)\n",
    ")\n",
    "\n",
    "swain_jury\n",
    "print(tvd(swain_jury.column(1), swain_jury.column(2)))\n",
    "# Compute empirical distribution of TVDs\n"
   ]
  },
  {
   "cell_type": "code",
   "execution_count": 119,
   "metadata": {},
   "outputs": [
    {
     "name": "stdout",
     "output_type": "stream",
     "text": [
      "TVD\n",
      "0.02\n",
      "0.06\n",
      "0.02\n",
      "0.07\n",
      "0.01\n",
      "0.09\n",
      "0.04\n",
      "0.04\n",
      "0.05\n",
      "0\n",
      "... (4990 rows omitted)\n"
     ]
    }
   ],
   "source": [
    "panel_size = 100\n",
    "repetitions = 5000\n",
    "\n",
    "tvds = make_array()\n",
    "\n",
    "for i in np.arange(repetitions):\n",
    "\n",
    "    new_sample = proportions_from_distribution(swain_jury, 'Eligible', panel_size)\n",
    "    tvds = np.append(tvds, tvd(new_sample.column(1), new_sample.column(3)))\n",
    "\n",
    "results = Table().with_column('TVD', tvds)\n",
    "print(results)\n"
   ]
  },
  {
   "cell_type": "code",
   "execution_count": 120,
   "metadata": {},
   "outputs": [
    {
     "data": {
      "image/png": "[encoded data removed]",
      "text/plain": [
       "<Figure size 432x288 with 1 Axes>"
      ]
     },
     "metadata": {},
     "output_type": "display_data"
    }
   ],
   "source": [
    "results.hist(bins = np.arange(0, 0.2, 0.01))"
   ]
  },
  {
   "cell_type": "code",
   "execution_count": null,
   "metadata": {},
   "outputs": [],
   "source": []
  }
 ],
 "metadata": {
  "kernelspec": {
   "display_name": "Python 3",
   "language": "python",
   "name": "python3"
  },
  "language_info": {
   "codemirror_mode": {
    "name": "ipython",
    "version": 3
   },
   "file_extension": ".py",
   "mimetype": "text/x-python",
   "name": "python",
   "nbconvert_exporter": "python",
   "pygments_lexer": "ipython3",
   "version": "3.5.10"
  }
 },
 "nbformat": 4,
 "nbformat_minor": 2
}
